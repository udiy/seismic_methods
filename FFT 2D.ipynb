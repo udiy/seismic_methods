{
 "cells": [
  {
   "cell_type": "code",
   "execution_count": 1,
   "metadata": {
    "ExecuteTime": {
     "end_time": "2020-05-13T15:43:13.290310Z",
     "start_time": "2020-05-13T15:43:13.013772Z"
    }
   },
   "outputs": [
    {
     "name": "stderr",
     "output_type": "stream",
     "text": [
      "\n",
      "Bad key \"text.kerning_factor\" on line 4 in\n",
      "C:\\Users\\udiyo\\AppData\\Local\\Continuum\\miniconda3\\envs\\uni\\lib\\site-packages\\matplotlib\\mpl-data\\stylelib\\_classic_test_patch.mplstyle.\n",
      "You probably need to get an updated matplotlibrc file from\n",
      "https://github.com/matplotlib/matplotlib/blob/v3.1.3/matplotlibrc.template\n",
      "or from the matplotlib source distribution\n"
     ]
    }
   ],
   "source": [
    "import numpy as np\n",
    "# import pandas as pd\n",
    "\n",
    "import matplotlib.pyplot as plt"
   ]
  },
  {
   "cell_type": "markdown",
   "metadata": {},
   "source": [
    "# Spikes examples"
   ]
  },
  {
   "cell_type": "code",
   "execution_count": 2,
   "metadata": {
    "ExecuteTime": {
     "end_time": "2020-05-13T15:43:14.149349Z",
     "start_time": "2020-05-13T15:43:14.137846Z"
    }
   },
   "outputs": [
    {
     "data": {
      "text/plain": [
       "array([[0., 0., 0., 0., 0., 1., 0., 0., 0., 0., 0.],\n",
       "       [0., 0., 0., 0., 0., 1., 0., 0., 0., 0., 0.],\n",
       "       [0., 0., 0., 0., 0., 1., 0., 0., 0., 0., 0.],\n",
       "       [0., 0., 0., 0., 0., 1., 0., 0., 0., 0., 0.],\n",
       "       [0., 0., 0., 0., 0., 1., 0., 0., 0., 0., 0.],\n",
       "       [0., 0., 0., 0., 0., 1., 0., 0., 0., 0., 0.],\n",
       "       [0., 0., 0., 0., 0., 1., 0., 0., 0., 0., 0.],\n",
       "       [0., 0., 0., 0., 0., 1., 0., 0., 0., 0., 0.],\n",
       "       [0., 0., 0., 0., 0., 1., 0., 0., 0., 0., 0.],\n",
       "       [0., 0., 0., 0., 0., 1., 0., 0., 0., 0., 0.],\n",
       "       [0., 0., 0., 0., 0., 1., 0., 0., 0., 0., 0.]])"
      ]
     },
     "execution_count": 2,
     "metadata": {},
     "output_type": "execute_result"
    }
   ],
   "source": [
    "a = np.zeros(11)\n",
    "a[5] = 1\n",
    "spikes = np.tile(a, (11,1))\n",
    "spikes"
   ]
  },
  {
   "cell_type": "code",
   "execution_count": 3,
   "metadata": {
    "ExecuteTime": {
     "end_time": "2020-05-13T15:43:14.820927Z",
     "start_time": "2020-05-13T15:43:14.816020Z"
    }
   },
   "outputs": [
    {
     "data": {
      "text/plain": [
       "array([[1., 1., 1., 1., 1., 1.],\n",
       "       [1., 1., 1., 1., 1., 1.],\n",
       "       [1., 1., 1., 1., 1., 1.],\n",
       "       [1., 1., 1., 1., 1., 1.],\n",
       "       [1., 1., 1., 1., 1., 1.],\n",
       "       [1., 1., 1., 1., 1., 1.],\n",
       "       [1., 1., 1., 1., 1., 1.],\n",
       "       [1., 1., 1., 1., 1., 1.],\n",
       "       [1., 1., 1., 1., 1., 1.],\n",
       "       [1., 1., 1., 1., 1., 1.],\n",
       "       [1., 1., 1., 1., 1., 1.]])"
      ]
     },
     "execution_count": 3,
     "metadata": {},
     "output_type": "execute_result"
    }
   ],
   "source": [
    "fft_for_each_row = np.fft.rfft(spikes)    # last dim\n",
    "np.abs(fft_for_each_row)"
   ]
  },
  {
   "cell_type": "code",
   "execution_count": 4,
   "metadata": {
    "ExecuteTime": {
     "end_time": "2020-05-13T15:43:15.534067Z",
     "start_time": "2020-05-13T15:43:15.528727Z"
    }
   },
   "outputs": [
    {
     "data": {
      "text/plain": [
       "array([[11, 11, 10, 11, 11, 11],\n",
       "       [ 0,  0,  0,  0,  0,  0],\n",
       "       [ 0,  0,  0,  0,  0,  0],\n",
       "       [ 0,  0,  0,  0,  0,  0],\n",
       "       [ 0,  0,  0,  0,  0,  0],\n",
       "       [ 0,  0,  0,  0,  0,  0],\n",
       "       [ 0,  0,  0,  0,  0,  0],\n",
       "       [ 0,  0,  0,  0,  0,  0],\n",
       "       [ 0,  0,  0,  0,  0,  0],\n",
       "       [ 0,  0,  0,  0,  0,  0],\n",
       "       [ 0,  0,  0,  0,  0,  0]])"
      ]
     },
     "execution_count": 4,
     "metadata": {},
     "output_type": "execute_result"
    }
   ],
   "source": [
    "fft_for_each_col = np.fft.fft(fft_for_each_row, axis=0)    # first dim\n",
    "np.abs(fft_for_each_col).astype(int)"
   ]
  },
  {
   "cell_type": "code",
   "execution_count": 5,
   "metadata": {
    "ExecuteTime": {
     "end_time": "2020-05-13T15:43:16.190162Z",
     "start_time": "2020-05-13T15:43:16.184180Z"
    }
   },
   "outputs": [
    {
     "data": {
      "text/plain": [
       "array([[ 0,  0,  0,  0,  0,  0],\n",
       "       [ 0,  0,  0,  0,  0,  0],\n",
       "       [ 0,  0,  0,  0,  0,  0],\n",
       "       [ 0,  0,  0,  0,  0,  0],\n",
       "       [ 0,  0,  0,  0,  0,  0],\n",
       "       [11, 11, 10, 11, 11, 11],\n",
       "       [ 0,  0,  0,  0,  0,  0],\n",
       "       [ 0,  0,  0,  0,  0,  0],\n",
       "       [ 0,  0,  0,  0,  0,  0],\n",
       "       [ 0,  0,  0,  0,  0,  0],\n",
       "       [ 0,  0,  0,  0,  0,  0]])"
      ]
     },
     "execution_count": 5,
     "metadata": {},
     "output_type": "execute_result"
    }
   ],
   "source": [
    "fft_for_each_col = np.fft.fftshift(fft_for_each_col, axes=0)\n",
    "np.abs(fft_for_each_col).astype(int)"
   ]
  },
  {
   "cell_type": "code",
   "execution_count": 6,
   "metadata": {
    "ExecuteTime": {
     "end_time": "2020-05-13T15:43:18.692935Z",
     "start_time": "2020-05-13T15:43:18.688936Z"
    }
   },
   "outputs": [
    {
     "name": "stdout",
     "output_type": "stream",
     "text": [
      "(11, 6)\n"
     ]
    }
   ],
   "source": [
    "print(fft_for_each_col.shape)"
   ]
  },
  {
   "cell_type": "markdown",
   "metadata": {},
   "source": [
    "## fft2"
   ]
  },
  {
   "cell_type": "code",
   "execution_count": 7,
   "metadata": {
    "ExecuteTime": {
     "end_time": "2020-05-13T15:43:19.678003Z",
     "start_time": "2020-05-13T15:43:19.672985Z"
    }
   },
   "outputs": [
    {
     "data": {
      "text/plain": [
       "array([[ 0,  0,  0,  0,  0,  0],\n",
       "       [ 0,  0,  0,  0,  0,  0],\n",
       "       [ 0,  0,  0,  0,  0,  0],\n",
       "       [ 0,  0,  0,  0,  0,  0],\n",
       "       [ 0,  0,  0,  0,  0,  0],\n",
       "       [11, 11, 10, 11, 11, 11],\n",
       "       [ 0,  0,  0,  0,  0,  0],\n",
       "       [ 0,  0,  0,  0,  0,  0],\n",
       "       [ 0,  0,  0,  0,  0,  0],\n",
       "       [ 0,  0,  0,  0,  0,  0],\n",
       "       [ 0,  0,  0,  0,  0,  0]])"
      ]
     },
     "execution_count": 7,
     "metadata": {},
     "output_type": "execute_result"
    }
   ],
   "source": [
    "spikes_hat = np.fft.rfft2(spikes)\n",
    "np.abs(np.fft.fftshift(spikes_hat, axes=0)).astype(int)"
   ]
  },
  {
   "cell_type": "markdown",
   "metadata": {},
   "source": [
    "# Single ended example"
   ]
  },
  {
   "cell_type": "code",
   "execution_count": 8,
   "metadata": {
    "ExecuteTime": {
     "end_time": "2020-05-13T15:43:21.754914Z",
     "start_time": "2020-05-13T15:43:21.744391Z"
    }
   },
   "outputs": [
    {
     "data": {
      "text/plain": [
       "(1000, 500)"
      ]
     },
     "execution_count": 8,
     "metadata": {},
     "output_type": "execute_result"
    }
   ],
   "source": [
    "n_x = 500\n",
    "dx = 10\n",
    "\n",
    "n_t = 1000\n",
    "dt = 0.004\n",
    "\n",
    "# every col is a trace (channel)\n",
    "data = np.concatenate([np.eye(n_x),np.zeros((n_t - n_x,n_x))], axis=0)\n",
    "data.shape"
   ]
  },
  {
   "cell_type": "code",
   "execution_count": 9,
   "metadata": {
    "ExecuteTime": {
     "end_time": "2020-05-13T15:43:22.636396Z",
     "start_time": "2020-05-13T15:43:22.553015Z"
    }
   },
   "outputs": [
    {
     "data": {
      "image/png": "[encoded data removed]",
      "text/plain": [
       "<Figure size 432x288 with 1 Axes>"
      ]
     },
     "metadata": {
      "needs_background": "light"
     },
     "output_type": "display_data"
    }
   ],
   "source": [
    "xticks = np.arange(n_x)[::100]\n",
    "xlabels = xticks*dx\n",
    "plt.xticks(ticks=xticks, labels=xlabels, rotation=45)\n",
    "plt.xlabel(\"Offset [m]\")\n",
    "\n",
    "yticks = np.arange(n_t)[::200]\n",
    "ylabels = yticks*dt\n",
    "plt.yticks(ticks=yticks, labels=ylabels)\n",
    "plt.ylabel(\"Time [sec]\")\n",
    "\n",
    "plt.imshow(data, cmap=\"Blues\")\n",
    "plt.show()"
   ]
  },
  {
   "cell_type": "markdown",
   "metadata": {},
   "source": [
    "## FFT first way"
   ]
  },
  {
   "cell_type": "code",
   "execution_count": 10,
   "metadata": {
    "ExecuteTime": {
     "end_time": "2020-05-13T15:43:24.814514Z",
     "start_time": "2020-05-13T15:43:24.809536Z"
    }
   },
   "outputs": [],
   "source": [
    "xlabels = np.fft.fftshift(np.fft.fftfreq(n_x, dx))[::125]\n",
    "xticks = np.arange(xlabels.size)*125\n",
    "\n",
    "yticks = np.arange(n_t/2 + 1)[::50]\n",
    "ylabels = yticks/4"
   ]
  },
  {
   "cell_type": "code",
   "execution_count": 11,
   "metadata": {
    "ExecuteTime": {
     "end_time": "2020-05-13T15:43:25.520076Z",
     "start_time": "2020-05-13T15:43:25.503531Z"
    }
   },
   "outputs": [],
   "source": [
    "fft_for_each_col = np.fft.rfft(data, axis=0)\n",
    "fft_for_each_row = np.fft.fft(fft_for_each_col, axis=1)\n",
    "fft_for_each_row = np.fft.fftshift(fft_for_each_row, axes=1)"
   ]
  },
  {
   "cell_type": "code",
   "execution_count": 13,
   "metadata": {
    "ExecuteTime": {
     "end_time": "2020-05-13T15:43:31.018461Z",
     "start_time": "2020-05-13T15:43:30.927651Z"
    }
   },
   "outputs": [
    {
     "data": {
      "image/png": "[encoded data removed]",
      "text/plain": [
       "<Figure size 432x288 with 1 Axes>"
      ]
     },
     "metadata": {
      "needs_background": "light"
     },
     "output_type": "display_data"
    },
    {
     "data": {
      "text/plain": [
       "(501, 500)"
      ]
     },
     "execution_count": 13,
     "metadata": {},
     "output_type": "execute_result"
    }
   ],
   "source": [
    "plt.imshow(np.abs(fft_for_each_row), cmap=\"Blues\")\n",
    "\n",
    "plt.xticks(ticks=xticks, labels=xlabels, rotation=45)\n",
    "plt.xlabel(\"k [1/m]\")\n",
    "\n",
    "plt.yticks(ticks=yticks, labels=ylabels)\n",
    "plt.ylabel(\"F [Hz]\")\n",
    "\n",
    "plt.show()\n",
    "fft_for_each_row.shape"
   ]
  },
  {
   "cell_type": "markdown",
   "metadata": {},
   "source": [
    "## FFT - second way"
   ]
  },
  {
   "cell_type": "code",
   "execution_count": 20,
   "metadata": {
    "ExecuteTime": {
     "end_time": "2020-05-13T15:47:23.493330Z",
     "start_time": "2020-05-13T15:47:23.335085Z"
    }
   },
   "outputs": [
    {
     "data": {
      "image/png": "[encoded data removed]",
      "text/plain": [
       "<Figure size 432x288 with 1 Axes>"
      ]
     },
     "metadata": {
      "needs_background": "light"
     },
     "output_type": "display_data"
    },
    {
     "data": {
      "text/plain": [
       "(501, 500)"
      ]
     },
     "execution_count": 20,
     "metadata": {},
     "output_type": "execute_result"
    }
   ],
   "source": [
    "fft_for_each_row = np.fft.rfft(data.T)    # last dim\n",
    "fft_for_each_col = np.fft.fft(fft_for_each_row, axis=0)    # first dim\n",
    "fft_for_each_col = np.fft.fftshift(fft_for_each_col, axes=0)\n",
    "\n",
    "\n",
    "plt.imshow(np.abs(fft_for_each_col.T), cmap=\"Blues\")\n",
    "\n",
    "plt.xticks(ticks=xticks, labels=xlabels, rotation=45)\n",
    "plt.xlabel(\"k [1/m]\")\n",
    "\n",
    "plt.yticks(ticks=yticks, labels=ylabels)\n",
    "plt.ylabel(\"F [Hz]\")\n",
    "\n",
    "plt.show()\n",
    "\n",
    "fft_for_each_col.T.shape"
   ]
  },
  {
   "cell_type": "markdown",
   "metadata": {},
   "source": [
    "## fft2"
   ]
  },
  {
   "cell_type": "code",
   "execution_count": 16,
   "metadata": {
    "ExecuteTime": {
     "end_time": "2020-05-13T15:46:04.872672Z",
     "start_time": "2020-05-13T15:46:04.768882Z"
    }
   },
   "outputs": [
    {
     "data": {
      "image/png": "[encoded data removed]",
      "text/plain": [
       "<Figure size 432x288 with 1 Axes>"
      ]
     },
     "metadata": {
      "needs_background": "light"
     },
     "output_type": "display_data"
    },
    {
     "data": {
      "text/plain": [
       "(501, 500)"
      ]
     },
     "execution_count": 16,
     "metadata": {},
     "output_type": "execute_result"
    }
   ],
   "source": [
    "data_hat = np.fft.rfft2(data.T)\n",
    "data_hat = np.fft.fftshift(data_hat, axes=0)\n",
    "\n",
    "\n",
    "plt.imshow(np.abs(data_hat.T), cmap=\"Blues\")\n",
    "\n",
    "plt.xticks(ticks=xticks, labels=xlabels, rotation=45)\n",
    "plt.xlabel(\"k [1/m]\")\n",
    "\n",
    "plt.yticks(ticks=yticks, labels=ylabels)\n",
    "plt.ylabel(\"F [Hz]\")\n",
    "\n",
    "plt.show()\n",
    "data_hat.T.shape"
   ]
  },
  {
   "cell_type": "code",
   "execution_count": null,
   "metadata": {},
   "outputs": [],
   "source": []
  }
 ],
 "metadata": {
  "hide_input": false,
  "kernelspec": {
   "display_name": "Python 3",
   "language": "python",
   "name": "python3"
  },
  "language_info": {
   "codemirror_mode": {
    "name": "ipython",
    "version": 3
   },
   "file_extension": ".py",
   "mimetype": "text/x-python",
   "name": "python",
   "nbconvert_exporter": "python",
   "pygments_lexer": "ipython3",
   "version": "3.8.2"
  },
  "toc": {
   "base_numbering": 1,
   "nav_menu": {},
   "number_sections": true,
   "sideBar": true,
   "skip_h1_title": false,
   "title_cell": "Table of Contents",
   "title_sidebar": "Contents",
   "toc_cell": false,
   "toc_position": {},
   "toc_section_display": true,
   "toc_window_display": true
  }
 },
 "nbformat": 4,
 "nbformat_minor": 4
}
